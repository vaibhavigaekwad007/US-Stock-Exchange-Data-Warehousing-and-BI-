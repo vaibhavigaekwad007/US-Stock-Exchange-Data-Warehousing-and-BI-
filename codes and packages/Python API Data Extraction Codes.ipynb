{
 "cells": [
  {
   "cell_type": "code",
   "execution_count": 14,
   "metadata": {},
   "outputs": [],
   "source": [
    "#IncomeStatement\n",
    "import json\n",
    "import pandas as pd\n",
    "import requests\n",
    "\n",
    "tickrs = ['GSK']\n",
    "api_key = 'ROQQ578DPMS8A3T8'\n",
    "\n",
    "for tickr in tickrs:\n",
    "    url = \"https://www.alphavantage.co/query?function=INCOME_STATEMENT&symbol=\" + tickr + \"&apikey=\" + api_key\n",
    "    r = requests.get(url).text\n",
    "    data = json.loads(r)\n",
    "    data = data[\"quarterlyReports\"]\n",
    "    df = pd.DataFrame(data)\n",
    "df.to_csv('IncomeStatementGSK.csv')"
   ]
  },
  {
   "cell_type": "code",
   "execution_count": 17,
   "metadata": {},
   "outputs": [],
   "source": [
    "#Earnings\n",
    "import json\n",
    "import pandas as pd\n",
    "import requests\n",
    "\n",
    "tickrs = ['GSK']\n",
    "api_key = 'ROQQ578DPMS8A3T8'\n",
    "\n",
    "for tickr in tickrs:\n",
    "    url = \"https://www.alphavantage.co/query?function=EARNINGS&symbol=\" + tickr + \"&apikey=\" + api_key\n",
    "    r = requests.get(url).text\n",
    "    data = json.loads(r)\n",
    "    data = data[\"quarterlyEarnings\"]\n",
    "    df = pd.DataFrame(data)\n",
    "df.to_csv('EarningsGSK.csv')"
   ]
  },
  {
   "cell_type": "code",
   "execution_count": 28,
   "metadata": {},
   "outputs": [],
   "source": [
    "#CompanyOVERVIEW\n",
    "import json\n",
    "import pandas as pd\n",
    "import requests\n",
    "\n",
    "tickrs = ['GSK']\n",
    "api_key = 'ROQQ578DPMS8A3T8'\n",
    "\n",
    "for tickr in tickrs:\n",
    "    url = \"https://www.alphavantage.co/query?function=OVERVIEW&symbol=\" + tickr + \"&apikey=\" + api_key\n",
    "    r = requests.get(url).text\n",
    "    data = json.loads(r)\n",
    "    df = pd.DataFrame({'count': data})\n",
    "df.to_csv('OVERVIEW_GSK.csv')"
   ]
  }
 ],
 "metadata": {
  "kernelspec": {
   "display_name": "Python 3",
   "language": "python",
   "name": "python3"
  },
  "language_info": {
   "codemirror_mode": {
    "name": "ipython",
    "version": 3
   },
   "file_extension": ".py",
   "mimetype": "text/x-python",
   "name": "python",
   "nbconvert_exporter": "python",
   "pygments_lexer": "ipython3",
   "version": "3.7.6"
  }
 },
 "nbformat": 4,
 "nbformat_minor": 4
}
